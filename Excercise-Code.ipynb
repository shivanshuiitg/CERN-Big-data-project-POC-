{
 "cells": [
  {
   "cell_type": "code",
   "execution_count": null,
   "metadata": {
    "collapsed": true
   },
   "outputs": [],
   "source": [
    "from IPython.core.display import HTML,display\n",
    "from string import Template\n",
    "import json,requests,threading,time,thread\n",
    "import ipywidgets as widgets\n",
    "from pyspark import SparkConf, SparkContext\n",
    "from operator import add\n",
    "## Please specify `sparkHost` and `filename`\n",
    "## `sparkHost` is the server on which you are running the script\n",
    "sparkHost = \"localhost\"\n",
    "## `filename` is path of textfile\n",
    "filename = 'textfile.txt'\n",
    "## getting css,html and javascript code\n",
    "css_code=open('css/style.css', 'r').read()\n",
    "javascript_code=open('js/javascript.js','r').read()\n",
    "html_code = open('html/monitor-template.html','r').read()\n",
    "## Stopping default SparkContext, so that I can specify my Own SparkContext with required configurations\n",
    "sc.stop()\n",
    "\n",
    "## functions to be used\n",
    "def get_application_id(sc):\n",
    "    ## Returns application-id corresponding to SparkContext\n",
    "    return sc._jsc.sc().applicationId()\n",
    "\n",
    "def get_all_applications():\n",
    "    ## Returns JSON String of all applications \n",
    "    url = get_base_url(sc)\n",
    "    result = requests.get(url)\n",
    "    return json.dumps(result.json())\n",
    "\n",
    "def get_jobs(app_id):\n",
    "    ## Returns JSON String of all jobs associated with app_id\n",
    "    url = \"{base_url}/{app_id}/jobs\".format(base_url=get_base_url(sc),app_id=app_id)\n",
    "    result = requests.get(url)\n",
    "    return json.dumps(result.json())\n",
    "\n",
    "def get_base_url(sc):\n",
    "    ## Get the port on which UI for this application is running and return base url for querying Spark API\n",
    "    for x in range(4040,4060):\n",
    "        link = \"http://\"+sparkHost+\":\"+str(x)+\"/environment/\"\n",
    "        result = requests.get(link)\n",
    "        if ( result.status_code == 200 and sc.applicationId in str(result.content)):\n",
    "            return \"http://{spark_host}:{ui_port}/api/v1/applications\".format(spark_host=sparkHost,ui_port=x)\n",
    "def show_html():\n",
    "    ## display the Live data as HTML\n",
    "    display(HTML(css_code + html_code + javascript_code))"
   ]
  },
  {
   "cell_type": "code",
   "execution_count": null,
   "metadata": {
    "collapsed": false,
    "scrolled": true
   },
   "outputs": [],
   "source": [
    "thread.start_new_thread(show_html, ())\n",
    "## Calculates the word count of the given file.\n",
    "\n",
    "## Constants\n",
    "APP_NAME = \"Simple Application\"\n",
    "\n",
    "def main(sc,filename):\n",
    "   textRDD = sc.textFile(filename)\n",
    "   words = textRDD.flatMap(lambda x: x.split(' ')).map(lambda x: (x, 1))\n",
    "   wordcount = words.reduceByKey(add).collect()\n",
    "   for wc in wordcount:\n",
    "      print(wc[0],wc[1])\n",
    "   textRDD.flatMap(lambda line: line.split()).map(lambda word: (word, 1)).reduceByKey(lambda a, b: a+b)\n",
    "\n",
    "if __name__ == \"__main__\":\n",
    "   # Configure Spark\n",
    "   conf = SparkConf().setAppName(APP_NAME)\n",
    "   conf = conf.setMaster(\"local[*]\")\n",
    "   sc   = SparkContext(conf=conf)\n",
    "   # Execute Main functionality\n",
    "   main(sc, filename)\n",
    "   ls = range(100)\n",
    "   ls_rdd = sc.parallelize(ls, numSlices=1000)\n",
    "   ls_out = ls_rdd.map(lambda x: x+1).collect()\n",
    "   print ('output!: ', ls_out)\n"
   ]
  }
 ],
 "metadata": {
  "kernelspec": {
   "display_name": "Python 2",
   "language": "python",
   "name": "python2"
  },
  "language_info": {
   "codemirror_mode": {
    "name": "ipython",
    "version": 2
   },
   "file_extension": ".py",
   "mimetype": "text/x-python",
   "name": "python",
   "nbconvert_exporter": "python",
   "pygments_lexer": "ipython2",
   "version": "2.7.13"
  }
 },
 "nbformat": 4,
 "nbformat_minor": 2
}
